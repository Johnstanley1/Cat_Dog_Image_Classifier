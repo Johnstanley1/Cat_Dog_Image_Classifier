{
 "cells": [
  {
   "cell_type": "code",
   "execution_count": 6,
   "metadata": {},
   "outputs": [],
   "source": [
    "#@Title Import dependencies \n",
    "\n",
    "# Machine leaning\n",
    "import tensorflow as tf\n",
    "\n",
    "from tensorflow.keras.models import Sequential\n",
    "from tensorflow.keras.layers import Dense, Conv2D, Flatten, Dropout, MaxPooling2D\n",
    "from tensorflow.keras.preprocessing.image import ImageDataGenerator\n",
    "\n",
    "# Data analysis\n",
    "import os\n",
    "import numpy as np\n",
    "import matplotlib.pyplot as plt\n",
    "\n",
    "import os\n",
    "import urllib.request\n",
    "import zipfile"
   ]
  },
  {
   "cell_type": "code",
   "execution_count": 7,
   "metadata": {},
   "outputs": [],
   "source": [
    "# Get project files\n",
    "# !wget https://cdn.freecodecamp.org/project-data/cats-and-dogs/cats_and_dogs.zip\n",
    "\n",
    "# !unzip cats_and_dogs.zip\n",
    "\n",
    "# PATH = 'cats_and_dogs'\n",
    "\n",
    "# train_dir = os.path.join(PATH, 'train')\n",
    "# validation_dir = os.path.join(PATH, 'validation')\n",
    "# test_dir = os.path.join(PATH, 'test')\n",
    "\n",
    "# # Get number of files in each directory. The train and validation directories\n",
    "# # each have the subdirecories \"dogs\" and \"cats\".\n",
    "# total_train = sum([len(files) for r, d, files in os.walk(train_dir)])\n",
    "# total_val = sum([len(files) for r, d, files in os.walk(validation_dir)])\n",
    "# total_test = len(os.listdir(test_dir))\n",
    "\n",
    "# # Variables for pre-processing and training.\n",
    "# batch_size = 128\n",
    "# epochs = 15\n",
    "# IMG_HEIGHT = 150\n",
    "# IMG_WIDTH = 150"
   ]
  },
  {
   "cell_type": "code",
   "execution_count": 8,
   "metadata": {},
   "outputs": [],
   "source": [
    "# 3\n",
    "train_image_generator = None\n",
    "validation_image_generator = None\n",
    "test_image_generator = None\n",
    "\n",
    "train_data_gen = None\n",
    "val_data_gen = None\n",
    "test_data_gen = None"
   ]
  }
 ],
 "metadata": {
  "kernelspec": {
   "display_name": "Python 3",
   "language": "python",
   "name": "python3"
  },
  "language_info": {
   "codemirror_mode": {
    "name": "ipython",
    "version": 3
   },
   "file_extension": ".py",
   "mimetype": "text/x-python",
   "name": "python",
   "nbconvert_exporter": "python",
   "pygments_lexer": "ipython3",
   "version": "3.12.8"
  }
 },
 "nbformat": 4,
 "nbformat_minor": 2
}
